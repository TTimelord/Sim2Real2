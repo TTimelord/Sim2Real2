{
 "cells": [
  {
   "cell_type": "code",
   "execution_count": 1,
   "metadata": {
    "ExecuteTime": {
     "end_time": "2022-03-17T01:10:20.865348Z",
     "start_time": "2022-03-17T01:10:18.597524Z"
    }
   },
   "outputs": [
    {
     "name": "stdout",
     "output_type": "stream",
     "text": [
      "Jupyter environment detected. Enabling Open3D WebVisualizer.\n",
      "[Open3D INFO] WebRTC GUI backend enabled.\n",
      "[Open3D INFO] WebRTCWindowSystem: HTTP handshake server disabled.\n"
     ]
    }
   ],
   "source": [
    "import os, sys\n",
    "sys.path.append('../')\n",
    "os.environ[\"PYOPENGL_PLATFORM\"] = \"egl\"\n",
    "\n",
    "import numpy as np\n",
    "import json\n",
    "import math\n",
    "\n",
    "import torch\n",
    "\n",
    "import open3d as o3d\n",
    "import json\n",
    "import numpy as np\n",
    "from PIL import Image\n",
    "import matplotlib.pyplot as plt\n",
    "from mpl_toolkits.mplot3d import Axes3D\n",
    "%matplotlib nbagg"
   ]
  },
  {
   "cell_type": "code",
   "execution_count": 2,
   "metadata": {
    "ExecuteTime": {
     "end_time": "2022-03-17T01:10:20.874077Z",
     "start_time": "2022-03-17T01:10:20.866707Z"
    },
    "code_folding": [
     0
    ]
   },
   "outputs": [],
   "source": [
    "def plot_3d_point_cloud(x,\n",
    "                        y,\n",
    "                        z,\n",
    "                        show=True,\n",
    "                        show_axis=True,\n",
    "                        in_u_sphere=False,\n",
    "                        marker='.',\n",
    "                        s=8,\n",
    "                        alpha=.8,\n",
    "                        figsize=(5, 5),\n",
    "                        elev=10,\n",
    "                        azim=240,\n",
    "                        axis=None,\n",
    "                        title=None,\n",
    "                        lim=None,\n",
    "                        *args,\n",
    "                        **kwargs):\n",
    "\n",
    "    if axis is None:\n",
    "        fig = plt.figure(figsize=figsize)\n",
    "        ax = fig.add_subplot(111, projection='3d')\n",
    "    else:\n",
    "        ax = axis\n",
    "        fig = axis\n",
    "\n",
    "    if title is not None:\n",
    "        plt.title(title)\n",
    "\n",
    "    sc = ax.scatter(x, y, z, marker=marker, s=s, alpha=alpha, *args, **kwargs)\n",
    "    ax.view_init(elev=elev, azim=azim)\n",
    "\n",
    "    if lim:\n",
    "        ax.set_xlim3d(*lim[0])\n",
    "        ax.set_ylim3d(*lim[1])\n",
    "        ax.set_zlim3d(*lim[2])\n",
    "    elif in_u_sphere:\n",
    "        ax.set_xlim3d(-0.5, 0.5)\n",
    "        ax.set_ylim3d(-0.5, 0.5)\n",
    "        ax.set_zlim3d(-0.5, 0.5)\n",
    "    else:\n",
    "        lim = (min(np.min(x), np.min(y),\n",
    "                   np.min(z)), max(np.max(x), np.max(y), np.max(z)))\n",
    "        ax.set_xlim(1.3 * lim[0], 1.3 * lim[1])\n",
    "        ax.set_ylim(1.3 * lim[0], 1.3 * lim[1])\n",
    "        ax.set_zlim(1.3 * lim[0], 1.3 * lim[1])\n",
    "        plt.tight_layout()\n",
    "\n",
    "    if not show_axis:\n",
    "        plt.axis('off')\n",
    "\n",
    "    if show:\n",
    "        plt.show()\n",
    "\n",
    "    return fig"
   ]
  },
  {
   "cell_type": "code",
   "execution_count": 3,
   "metadata": {
    "ExecuteTime": {
     "end_time": "2022-03-17T01:10:20.884899Z",
     "start_time": "2022-03-17T01:10:20.875690Z"
    }
   },
   "outputs": [],
   "source": [
    "def read_depth(depth_path):\n",
    "    depth_img = np.array(Image.open(depth_path))\n",
    "    depth_img = depth_img.astype(np.float32) * 0.001\n",
    "    print(depth_img.dtype)\n",
    "    \n",
    "    rgbd = o3d.geometry.RGBDImage.create_from_color_and_depth(\n",
    "        o3d.geometry.Image(np.empty_like(depth_img)),\n",
    "        o3d.geometry.Image(depth_img),\n",
    "        depth_scale=1.0,\n",
    "        depth_trunc=0.7,\n",
    "        convert_rgb_to_intensity=False,\n",
    "    )\n",
    "    return rgbd\n",
    "\n",
    "def sum_downsample_points(point_list, voxel_size=0.01, nb_neighbors=20, std_ratio=2.0):\n",
    "    points = np.concatenate([np.asarray(x.points) for x in point_list], axis=0)\n",
    "    pcd = o3d.geometry.PointCloud()\n",
    "    pcd.points = o3d.utility.Vector3dVector(points)\n",
    "    pcd = pcd.voxel_down_sample(voxel_size=voxel_size)\n",
    "    pcd, _ = pcd.remove_statistical_outlier(nb_neighbors=nb_neighbors, std_ratio=std_ratio)\n",
    "    return pcd"
   ]
  },
  {
   "cell_type": "code",
   "execution_count": 4,
   "metadata": {
    "ExecuteTime": {
     "end_time": "2022-03-17T01:10:20.902631Z",
     "start_time": "2022-03-17T01:10:20.886038Z"
    }
   },
   "outputs": [],
   "source": [
    "def normalize(tensor: torch.Tensor, dim: int) -> torch.Tensor:\n",
    "    return tensor / ((tensor ** 2).sum(dim, keepdim=True).sqrt() + 1.0e-5)\n",
    "\n",
    "def vector_to_rotation(vector):\n",
    "    z = np.array(vector)\n",
    "    z = z / np.linalg.norm(z)\n",
    "    x = np.array([1, 0, 0])\n",
    "    x = x - z*(x.dot(z)/z.dot(z))\n",
    "    x = x / np.linalg.norm(x)\n",
    "    y = np.cross(z, x)\n",
    "    return np.c_[x, y, z]\n",
    "\n",
    "def add_r_joint_to_scene(scene,\n",
    "                             axis,\n",
    "                             pivot_point,\n",
    "                             length,\n",
    "                             radius=0.01,\n",
    "                             joint_color=[200, 0, 0, 180],\n",
    "                             recenter=False):\n",
    "    if recenter:\n",
    "        pivot_point = np.cross(axis, np.cross(pivot_point, axis))\n",
    "    rotation_mat = vector_to_rotation(axis)\n",
    "    screw_tran = np.eye(4)\n",
    "    screw_tran[:3, :3] = rotation_mat\n",
    "    screw_tran[:3, 3] = pivot_point\n",
    "    \n",
    "    axis_cylinder = trimesh.creation.cylinder(radius, height=length)\n",
    "    axis_arrow = trimesh.creation.cone(radius * 2, radius * 4)\n",
    "    arrow_trans = np.eye(4)\n",
    "    arrow_trans[2, 3] = length / 2\n",
    "    axis_arrow.apply_transform(arrow_trans)\n",
    "    axis_obj = trimesh.Scene((axis_cylinder, axis_arrow))\n",
    "    screw = as_mesh(axis_obj)\n",
    "    \n",
    "    # screw.apply_translation([0, 0, 0.1])\n",
    "    screw.apply_transform(screw_tran)\n",
    "    screw.visual.face_colors = np.array(joint_color, dtype=np.uint8)\n",
    "    scene.add_geometry(screw)\n",
    "    return screw"
   ]
  },
  {
   "cell_type": "markdown",
   "metadata": {},
   "source": [
    "# load data"
   ]
  },
  {
   "cell_type": "code",
   "execution_count": 5,
   "metadata": {
    "ExecuteTime": {
     "end_time": "2022-03-17T01:10:21.361851Z",
     "start_time": "2022-03-17T01:10:21.160570Z"
    }
   },
   "outputs": [
    {
     "name": "stdout",
     "output_type": "stream",
     "text": [
      "\u001B[1;33m[Open3D WARNING] Read PCD failed: unable to open file: angle1.pcd\u001B[0;m\n",
      "\u001B[1;33m[Open3D WARNING] Read PCD failed: unable to open file: angle2.pcd\u001B[0;m\n",
      "\u001B[1;33m[Open3D WARNING] GLFW Error: X11: The DISPLAY environment variable is missing\u001B[0;m\n",
      "\u001B[1;33m[Open3D WARNING] Failed to initialize GLFW\u001B[0;m\n",
      "\u001B[1;33m[Open3D WARNING] [DrawGeometries] Failed creating OpenGL window.\u001B[0;m\n"
     ]
    },
    {
     "ename": "ValueError",
     "evalue": "zero-size array to reduction operation minimum which has no identity",
     "output_type": "error",
     "traceback": [
      "\u001B[0;31m---------------------------------------------------------------------------\u001B[0m",
      "\u001B[0;31mValueError\u001B[0m                                Traceback (most recent call last)",
      "Cell \u001B[0;32mIn[5], line 16\u001B[0m\n\u001B[1;32m     14\u001B[0m src_pc_list \u001B[38;5;241m=\u001B[39m []\n\u001B[1;32m     15\u001B[0m src_fused_pc \u001B[38;5;241m=\u001B[39m np\u001B[38;5;241m.\u001B[39masarray(pcd_1\u001B[38;5;241m.\u001B[39mpoints)\n\u001B[0;32m---> 16\u001B[0m center \u001B[38;5;241m=\u001B[39m (\u001B[43mnp\u001B[49m\u001B[38;5;241;43m.\u001B[39;49m\u001B[43mmin\u001B[49m\u001B[43m(\u001B[49m\u001B[43msrc_fused_pc\u001B[49m\u001B[43m,\u001B[49m\u001B[43m \u001B[49m\u001B[38;5;241;43m0\u001B[39;49m\u001B[43m)\u001B[49m \u001B[38;5;241m+\u001B[39m np\u001B[38;5;241m.\u001B[39mmax(src_fused_pc, \u001B[38;5;241m0\u001B[39m)) \u001B[38;5;241m/\u001B[39m \u001B[38;5;241m2\u001B[39m\n\u001B[1;32m     17\u001B[0m scale \u001B[38;5;241m=\u001B[39m (np\u001B[38;5;241m.\u001B[39mmax(src_fused_pc, \u001B[38;5;241m0\u001B[39m) \u001B[38;5;241m-\u001B[39m np\u001B[38;5;241m.\u001B[39mmin(src_fused_pc, \u001B[38;5;241m0\u001B[39m))\u001B[38;5;241m.\u001B[39mmax()\n\u001B[1;32m     18\u001B[0m scale \u001B[38;5;241m*\u001B[39m\u001B[38;5;241m=\u001B[39m \u001B[38;5;241m1.1\u001B[39m\n",
      "File \u001B[0;32m<__array_function__ internals>:180\u001B[0m, in \u001B[0;36mamin\u001B[0;34m(*args, **kwargs)\u001B[0m\n",
      "File \u001B[0;32m/home/rvsa/anaconda3/envs/Ditto/lib/python3.8/site-packages/numpy/core/fromnumeric.py:2916\u001B[0m, in \u001B[0;36mamin\u001B[0;34m(a, axis, out, keepdims, initial, where)\u001B[0m\n\u001B[1;32m   2800\u001B[0m \u001B[38;5;129m@array_function_dispatch\u001B[39m(_amin_dispatcher)\n\u001B[1;32m   2801\u001B[0m \u001B[38;5;28;01mdef\u001B[39;00m \u001B[38;5;21mamin\u001B[39m(a, axis\u001B[38;5;241m=\u001B[39m\u001B[38;5;28;01mNone\u001B[39;00m, out\u001B[38;5;241m=\u001B[39m\u001B[38;5;28;01mNone\u001B[39;00m, keepdims\u001B[38;5;241m=\u001B[39mnp\u001B[38;5;241m.\u001B[39m_NoValue, initial\u001B[38;5;241m=\u001B[39mnp\u001B[38;5;241m.\u001B[39m_NoValue,\n\u001B[1;32m   2802\u001B[0m          where\u001B[38;5;241m=\u001B[39mnp\u001B[38;5;241m.\u001B[39m_NoValue):\n\u001B[1;32m   2803\u001B[0m \u001B[38;5;250m    \u001B[39m\u001B[38;5;124;03m\"\"\"\u001B[39;00m\n\u001B[1;32m   2804\u001B[0m \u001B[38;5;124;03m    Return the minimum of an array or minimum along an axis.\u001B[39;00m\n\u001B[1;32m   2805\u001B[0m \n\u001B[0;32m   (...)\u001B[0m\n\u001B[1;32m   2914\u001B[0m \u001B[38;5;124;03m    6\u001B[39;00m\n\u001B[1;32m   2915\u001B[0m \u001B[38;5;124;03m    \"\"\"\u001B[39;00m\n\u001B[0;32m-> 2916\u001B[0m     \u001B[38;5;28;01mreturn\u001B[39;00m \u001B[43m_wrapreduction\u001B[49m\u001B[43m(\u001B[49m\u001B[43ma\u001B[49m\u001B[43m,\u001B[49m\u001B[43m \u001B[49m\u001B[43mnp\u001B[49m\u001B[38;5;241;43m.\u001B[39;49m\u001B[43mminimum\u001B[49m\u001B[43m,\u001B[49m\u001B[43m \u001B[49m\u001B[38;5;124;43m'\u001B[39;49m\u001B[38;5;124;43mmin\u001B[39;49m\u001B[38;5;124;43m'\u001B[39;49m\u001B[43m,\u001B[49m\u001B[43m \u001B[49m\u001B[43maxis\u001B[49m\u001B[43m,\u001B[49m\u001B[43m \u001B[49m\u001B[38;5;28;43;01mNone\u001B[39;49;00m\u001B[43m,\u001B[49m\u001B[43m \u001B[49m\u001B[43mout\u001B[49m\u001B[43m,\u001B[49m\n\u001B[1;32m   2917\u001B[0m \u001B[43m                          \u001B[49m\u001B[43mkeepdims\u001B[49m\u001B[38;5;241;43m=\u001B[39;49m\u001B[43mkeepdims\u001B[49m\u001B[43m,\u001B[49m\u001B[43m \u001B[49m\u001B[43minitial\u001B[49m\u001B[38;5;241;43m=\u001B[39;49m\u001B[43minitial\u001B[49m\u001B[43m,\u001B[49m\u001B[43m \u001B[49m\u001B[43mwhere\u001B[49m\u001B[38;5;241;43m=\u001B[39;49m\u001B[43mwhere\u001B[49m\u001B[43m)\u001B[49m\n",
      "File \u001B[0;32m/home/rvsa/anaconda3/envs/Ditto/lib/python3.8/site-packages/numpy/core/fromnumeric.py:86\u001B[0m, in \u001B[0;36m_wrapreduction\u001B[0;34m(obj, ufunc, method, axis, dtype, out, **kwargs)\u001B[0m\n\u001B[1;32m     83\u001B[0m         \u001B[38;5;28;01melse\u001B[39;00m:\n\u001B[1;32m     84\u001B[0m             \u001B[38;5;28;01mreturn\u001B[39;00m reduction(axis\u001B[38;5;241m=\u001B[39maxis, out\u001B[38;5;241m=\u001B[39mout, \u001B[38;5;241m*\u001B[39m\u001B[38;5;241m*\u001B[39mpasskwargs)\n\u001B[0;32m---> 86\u001B[0m \u001B[38;5;28;01mreturn\u001B[39;00m \u001B[43mufunc\u001B[49m\u001B[38;5;241;43m.\u001B[39;49m\u001B[43mreduce\u001B[49m\u001B[43m(\u001B[49m\u001B[43mobj\u001B[49m\u001B[43m,\u001B[49m\u001B[43m \u001B[49m\u001B[43maxis\u001B[49m\u001B[43m,\u001B[49m\u001B[43m \u001B[49m\u001B[43mdtype\u001B[49m\u001B[43m,\u001B[49m\u001B[43m \u001B[49m\u001B[43mout\u001B[49m\u001B[43m,\u001B[49m\u001B[43m \u001B[49m\u001B[38;5;241;43m*\u001B[39;49m\u001B[38;5;241;43m*\u001B[39;49m\u001B[43mpasskwargs\u001B[49m\u001B[43m)\u001B[49m\n",
      "\u001B[0;31mValueError\u001B[0m: zero-size array to reduction operation minimum which has no identity"
     ]
    }
   ],
   "source": [
    "# crop out the object\n",
    "bbox = o3d.geometry.AxisAlignedBoundingBox(min_bound=(0.5, -0.22, -0.03), max_bound=(1.2, 0.3, 0.6))\n",
    "# print(bbox)\n",
    "\n",
    "pcd_1 = o3d.io.read_point_cloud('angle1.pcd')\n",
    "pcd_2 = o3d.io.read_point_cloud('angle2.pcd')\n",
    "mesh_frame = o3d.geometry.TriangleMesh.create_coordinate_frame(size=0.05, origin=[0]*3)\n",
    "o3d.visualization.draw_geometries([pcd_1, mesh_frame, bbox])\n",
    "pcd_1 = pcd_1.crop(bbox)\n",
    "pcd_2 = pcd_2.crop(bbox)\n",
    "\n",
    "\n",
    "# find bounding box of data\n",
    "src_pc_list = []\n",
    "src_fused_pc = np.asarray(pcd_1.points)\n",
    "center = (np.min(src_fused_pc, 0) + np.max(src_fused_pc, 0)) / 2\n",
    "scale = (np.max(src_fused_pc, 0) - np.min(src_fused_pc, 0)).max()\n",
    "scale *= 1.1\n",
    "\n",
    "# back project and normalize point cloud\n",
    "\n",
    "src_pcd_list = []\n",
    "pcd = pcd_1\n",
    "center_transform = np.eye(4)\n",
    "center_transform[:3, 3] = -center\n",
    "pcd.transform(center_transform)\n",
    "pcd.scale(1 / scale, np.zeros((3, 1)))\n",
    "src_pcd_list.append(pcd)\n",
    "    \n",
    "dst_pcd_list = []\n",
    "pcd = pcd_2\n",
    "center_transform = np.eye(4)\n",
    "center_transform[:3, 3] = -center\n",
    "pcd.transform(center_transform)\n",
    "pcd.scale(1 / scale, np.zeros((3, 1)))\n",
    "dst_pcd_list.append(pcd)\n",
    "    \n",
    "src_pcd = sum_downsample_points(src_pcd_list, 0.02, 50, 0.1)\n",
    "dst_pcd = sum_downsample_points(dst_pcd_list, 0.02, 50, 0.1)"
   ]
  },
  {
   "cell_type": "code",
   "execution_count": null,
   "metadata": {
    "ExecuteTime": {
     "end_time": "2022-03-17T01:10:21.434993Z",
     "start_time": "2022-03-17T01:10:21.363155Z"
    }
   },
   "outputs": [],
   "source": [
    "# visualize crop results\n",
    "# tune crop box to get better isolated objects\n",
    "o3d.visualization.draw_geometries([src_pcd])\n",
    "o3d.visualization.draw_geometries([dst_pcd])\n",
    "fig = plt.figure()\n",
    "ax = fig.add_subplot(1, 2, 1, projection='3d')\n",
    "plot_3d_point_cloud(*np.asarray(src_pcd.points).T,\n",
    "                    axis=ax,\n",
    "                    azim=30,\n",
    "                    elev=30,\n",
    "                    lim=[(-0.5, 0.5)] * 3)\n",
    "\n",
    "ax = fig.add_subplot(1, 2, 2, projection='3d')\n",
    "plot_3d_point_cloud(*np.asarray(dst_pcd.points).T,\n",
    "                    axis=ax,\n",
    "                    azim=30,\n",
    "                    elev=30,\n",
    "                    lim=[(-0.5, 0.5)] * 3)\n",
    "\n",
    "plt.show()"
   ]
  },
  {
   "cell_type": "markdown",
   "metadata": {},
   "source": [
    "# Run model"
   ]
  },
  {
   "cell_type": "code",
   "execution_count": null,
   "metadata": {
    "ExecuteTime": {
     "end_time": "2022-03-17T01:10:21.834409Z",
     "start_time": "2022-03-17T01:10:21.436638Z"
    }
   },
   "outputs": [],
   "source": [
    "import torch\n",
    "from hydra.experimental import initialize, initialize_config_module, initialize_config_dir, compose\n",
    "from omegaconf import OmegaConf\n",
    "import hydra\n",
    "\n",
    "from src.third_party.ConvONets.conv_onet.generation_two_stage import Generator3D\n",
    "from src.utils.misc import sample_point_cloud"
   ]
  },
  {
   "cell_type": "code",
   "execution_count": null,
   "metadata": {
    "ExecuteTime": {
     "end_time": "2022-03-17T01:10:22.145791Z",
     "start_time": "2022-03-17T01:10:21.838704Z"
    }
   },
   "outputs": [],
   "source": [
    "with initialize(config_path='../configs/'):\n",
    "    config = compose(\n",
    "        config_name='config',\n",
    "        overrides=[\n",
    "            'experiment=sapien_different_pose_angle_stereo_depth.yaml',\n",
    "        ], return_hydra_config=True)\n",
    "config.datamodule.opt.train.data_dir = '../data/'\n",
    "config.datamodule.opt.val.data_dir = '../data/'\n",
    "config.datamodule.opt.test.data_dir = '../data/'"
   ]
  },
  {
   "cell_type": "code",
   "execution_count": null,
   "metadata": {
    "ExecuteTime": {
     "end_time": "2022-03-17T01:10:25.530752Z",
     "start_time": "2022-03-17T01:10:22.146932Z"
    }
   },
   "outputs": [],
   "source": [
    "model = hydra.utils.instantiate(config.model)\n",
    "ckpt = torch.load('****.ckpt')\n",
    "\n",
    "device = torch.device(0)\n",
    "model.load_state_dict(ckpt['state_dict'], strict=True)\n",
    "model = model.eval().to(device)"
   ]
  },
  {
   "cell_type": "code",
   "execution_count": null,
   "metadata": {
    "ExecuteTime": {
     "end_time": "2022-03-17T01:10:25.551329Z",
     "start_time": "2022-03-17T01:10:25.534806Z"
    }
   },
   "outputs": [],
   "source": [
    "generator = Generator3D(\n",
    "    model.model,\n",
    "    device=device,\n",
    "    threshold=0.4,\n",
    "    seg_threshold=0.5,\n",
    "    input_type='pointcloud',\n",
    "    refinement_step=0,\n",
    "    padding=0.1,\n",
    "    resolution0=32\n",
    ")"
   ]
  },
  {
   "cell_type": "code",
   "execution_count": null,
   "metadata": {
    "ExecuteTime": {
     "end_time": "2022-03-17T01:10:25.567740Z",
     "start_time": "2022-03-17T01:10:25.553360Z"
    }
   },
   "outputs": [],
   "source": [
    "pc_start = np.asarray(src_pcd.points)\n",
    "pc_end = np.asarray(dst_pcd.points)\n",
    "\n",
    "bound_max = np.maximum(pc_start.max(0), pc_end.max(0))\n",
    "bound_min = np.minimum(pc_start.min(0), pc_end.min(0))\n",
    "norm_center = (bound_max + bound_min) / 2\n",
    "norm_scale = (bound_max - bound_min).max() * 1.1\n",
    "pc_start = (pc_start - norm_center) / norm_scale\n",
    "pc_end = (pc_end - norm_center) / norm_scale\n",
    "\n",
    "pc_start, _ = sample_point_cloud(pc_start, 8192)\n",
    "pc_end, _ = sample_point_cloud(pc_end, 8192)\n",
    "sample = {\n",
    "    'pc_start': torch.from_numpy(pc_start).unsqueeze(0).to(device).float(),\n",
    "    'pc_end': torch.from_numpy(pc_end).unsqueeze(0).to(device).float()\n",
    "}"
   ]
  },
  {
   "cell_type": "code",
   "execution_count": null,
   "metadata": {
    "ExecuteTime": {
     "end_time": "2022-03-17T01:10:30.315208Z",
     "start_time": "2022-03-17T01:10:25.569368Z"
    }
   },
   "outputs": [],
   "source": [
    "mesh_dict, mobile_points_all, c, stats_dict = generator.generate_mesh(sample)\n",
    "with torch.no_grad():\n",
    "    joint_type_logits, joint_param_revolute, joint_param_prismatic = model.model.decode_joints(mobile_points_all, c)"
   ]
  },
  {
   "cell_type": "markdown",
   "metadata": {},
   "source": [
    "# Visualize results"
   ]
  },
  {
   "cell_type": "code",
   "execution_count": null,
   "metadata": {
    "ExecuteTime": {
     "end_time": "2022-03-17T01:10:31.797089Z",
     "start_time": "2022-03-17T01:10:30.318226Z"
    }
   },
   "outputs": [],
   "source": [
    "import trimesh\n",
    "from src.utils.joint_estimation import aggregate_dense_prediction_r\n",
    "\n",
    "from utils3d.mesh.utils import as_mesh\n",
    "from utils3d.utils.utils import get_pose\n",
    "from utils3d.render.pyrender import PyRenderer\n",
    "import cv2"
   ]
  },
  {
   "cell_type": "code",
   "execution_count": null,
   "metadata": {
    "ExecuteTime": {
     "end_time": "2022-03-17T01:10:32.251424Z",
     "start_time": "2022-03-17T01:10:31.798720Z"
    }
   },
   "outputs": [],
   "source": [
    "renderer = PyRenderer(light_kwargs={'color': np.array([1., 1., 1.]), 'intensity': 9})"
   ]
  },
  {
   "cell_type": "code",
   "execution_count": null,
   "metadata": {
    "ExecuteTime": {
     "end_time": "2022-03-17T01:10:32.268455Z",
     "start_time": "2022-03-17T01:10:32.253181Z"
    }
   },
   "outputs": [],
   "source": [
    "# compute articulation model\n",
    "mesh_dict[1].visual.face_colors = np.array([84, 220, 83, 255], dtype=np.uint8)\n",
    "joint_type_prob = joint_type_logits.sigmoid().mean()\n",
    "\n",
    "if joint_type_prob.item()< 0.5:\n",
    "    # axis voting\n",
    "    joint_r_axis = (\n",
    "        normalize(joint_param_revolute[:, :, :3], -1)[0].cpu().numpy()\n",
    "    )\n",
    "    joint_r_t = joint_param_revolute[:, :, 3][0].cpu().numpy()\n",
    "    joint_r_p2l_vec = (\n",
    "        normalize(joint_param_revolute[:, :, 4:7], -1)[0].cpu().numpy()\n",
    "    )\n",
    "    joint_r_p2l_dist = joint_param_revolute[:, :, 7][0].cpu().numpy()\n",
    "    p_seg = mobile_points_all[0].cpu().numpy()\n",
    "\n",
    "    pivot_point = p_seg + joint_r_p2l_vec * joint_r_p2l_dist[:, np.newaxis]\n",
    "    (\n",
    "        joint_axis_pred,\n",
    "        pivot_point_pred,\n",
    "        config_pred,\n",
    "    ) = aggregate_dense_prediction_r(\n",
    "        joint_r_axis, pivot_point, joint_r_t, method=\"mean\"\n",
    "    )\n",
    "# prismatic\n",
    "else:\n",
    "    # axis voting\n",
    "    joint_p_axis = (\n",
    "        normalize(joint_param_prismatic[:, :, :3], -1)[0].cpu().numpy()\n",
    "    )\n",
    "    joint_axis_pred = joint_p_axis.mean(0)\n",
    "    joint_p_t = joint_param_prismatic[:, :, 3][0].cpu().numpy()\n",
    "    config_pred = joint_p_t.mean()\n",
    "    \n",
    "    pivot_point_pred = mesh_dict[1].bounds.mean(0)"
   ]
  },
  {
   "cell_type": "code",
   "execution_count": null,
   "metadata": {
    "ExecuteTime": {
     "end_time": "2022-03-17T01:10:32.299348Z",
     "start_time": "2022-03-17T01:10:32.269856Z"
    }
   },
   "outputs": [],
   "source": [
    "scene = trimesh.Scene()\n",
    "static_part = mesh_dict[0].copy()\n",
    "mobile_part = mesh_dict[1].copy()\n",
    "scene.add_geometry(static_part)\n",
    "scene.add_geometry(mobile_part)\n",
    "add_r_joint_to_scene(scene, joint_axis_pred, pivot_point_pred, 1.0, recenter=True)"
   ]
  },
  {
   "cell_type": "code",
   "execution_count": null,
   "metadata": {
    "ExecuteTime": {
     "end_time": "2022-03-17T01:10:32.562232Z",
     "start_time": "2022-03-17T01:10:32.300555Z"
    }
   },
   "outputs": [],
   "source": [
    "# render result mesh\n",
    "pose = get_pose(1.5, ax=np.pi / 3, ay=0, az=-1*np.pi/4)\n",
    "camera_pose = pose\n",
    "light_pose = pose\n",
    "rgb, depth = renderer.render_mesh(scene, camera_pose, light_pose)"
   ]
  },
  {
   "cell_type": "code",
   "execution_count": null,
   "metadata": {
    "ExecuteTime": {
     "end_time": "2022-03-17T01:10:32.607604Z",
     "start_time": "2022-03-17T01:10:32.563420Z"
    }
   },
   "outputs": [],
   "source": [
    "Image.fromarray(rgb)"
   ]
  }
 ],
 "metadata": {
  "kernelspec": {
   "display_name": "sim2real2",
   "language": "python",
   "name": "python3"
  },
  "language_info": {
   "codemirror_mode": {
    "name": "ipython",
    "version": 3
   },
   "file_extension": ".py",
   "mimetype": "text/x-python",
   "name": "python",
   "nbconvert_exporter": "python",
   "pygments_lexer": "ipython3",
   "version": "3.8.13"
  },
  "vscode": {
   "interpreter": {
    "hash": "abfe52d158f92ab47ce1b94ef8a149109dd23c238a5cad46e8adb9780b9ae50b"
   }
  }
 },
 "nbformat": 4,
 "nbformat_minor": 4
}
