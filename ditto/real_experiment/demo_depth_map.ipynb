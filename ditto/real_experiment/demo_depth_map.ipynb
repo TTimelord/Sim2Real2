{
 "cells": [
  {
   "cell_type": "code",
   "execution_count": 1397,
   "metadata": {
    "ExecuteTime": {
     "end_time": "2022-02-25T05:58:31.634821Z",
     "start_time": "2022-02-25T05:58:23.443560Z"
    }
   },
   "outputs": [],
   "source": [
    "import os, sys\n",
    "sys.path.append('../')\n",
    "os.environ[\"PYOPENGL_PLATFORM\"] = \"egl\"\n",
    "\n",
    "import numpy as np\n",
    "import json\n",
    "import math\n",
    "\n",
    "import torch\n",
    "\n",
    "import open3d as o3d\n",
    "import json\n",
    "import numpy as np\n",
    "from PIL import Image\n",
    "import matplotlib.pyplot as plt\n",
    "from mpl_toolkits.mplot3d import Axes3D\n",
    "%matplotlib nbagg"
   ]
  },
  {
   "cell_type": "code",
   "execution_count": 1398,
   "metadata": {
    "ExecuteTime": {
     "end_time": "2022-02-25T05:58:31.643647Z",
     "start_time": "2022-02-25T05:58:31.636631Z"
    },
    "code_folding": [
     0
    ]
   },
   "outputs": [],
   "source": [
    "def plot_3d_point_cloud(x,\n",
    "                        y,\n",
    "                        z,\n",
    "                        show=True,\n",
    "                        show_axis=True,\n",
    "                        in_u_sphere=False,\n",
    "                        marker='.',\n",
    "                        s=8,\n",
    "                        alpha=.8,\n",
    "                        figsize=(5, 5),\n",
    "                        elev=10,\n",
    "                        azim=240,\n",
    "                        axis=None,\n",
    "                        title=None,\n",
    "                        lim=None,\n",
    "                        *args,\n",
    "                        **kwargs):\n",
    "\n",
    "    if axis is None:\n",
    "        fig = plt.figure(figsize=figsize)\n",
    "        ax = fig.add_subplot(111, projection='3d')\n",
    "    else:\n",
    "        ax = axis\n",
    "        fig = axis\n",
    "\n",
    "    if title is not None:\n",
    "        plt.title(title)\n",
    "\n",
    "    sc = ax.scatter(x, y, z, marker=marker, s=s, alpha=alpha, *args, **kwargs)\n",
    "    ax.view_init(elev=elev, azim=azim)\n",
    "\n",
    "    if lim:\n",
    "        ax.set_xlim3d(*lim[0])\n",
    "        ax.set_ylim3d(*lim[1])\n",
    "        ax.set_zlim3d(*lim[2])\n",
    "    elif in_u_sphere:\n",
    "        ax.set_xlim3d(-0.5, 0.5)\n",
    "        ax.set_ylim3d(-0.5, 0.5)\n",
    "        ax.set_zlim3d(-0.5, 0.5)\n",
    "    else:\n",
    "        lim = (min(np.min(x), np.min(y),\n",
    "                   np.min(z)), max(np.max(x), np.max(y), np.max(z)))\n",
    "        ax.set_xlim(1.3 * lim[0], 1.3 * lim[1])\n",
    "        ax.set_ylim(1.3 * lim[0], 1.3 * lim[1])\n",
    "        ax.set_zlim(1.3 * lim[0], 1.3 * lim[1])\n",
    "        plt.tight_layout()\n",
    "\n",
    "    if not show_axis:\n",
    "        plt.axis('off')\n",
    "\n",
    "    if show:\n",
    "        plt.show()\n",
    "\n",
    "    return fig"
   ]
  },
  {
   "cell_type": "code",
   "execution_count": 1399,
   "metadata": {
    "ExecuteTime": {
     "end_time": "2022-02-25T05:58:31.654225Z",
     "start_time": "2022-02-25T05:58:31.645082Z"
    }
   },
   "outputs": [],
   "source": [
    "def read_rgbd(rgb_path, depth_path):\n",
    "    depth_img = np.array(Image.open(depth_path))\n",
    "    depth_img = depth_img.astype(np.float32) * 0.001\n",
    "    \n",
    "    rgb_img = np.array(Image.open(rgb_path))\n",
    "    \n",
    "    rgbd = o3d.geometry.RGBDImage.create_from_color_and_depth(\n",
    "        o3d.geometry.Image(rgb_img),\n",
    "        # o3d.geometry.Image(np.empty_like(depth_img)),\n",
    "        o3d.geometry.Image(depth_img),\n",
    "        depth_scale=1.0,\n",
    "        depth_trunc=0.7,\n",
    "        convert_rgb_to_intensity=False,\n",
    "    )\n",
    "    return rgbd\n",
    "\n",
    "def sum_downsample_points(point_list, voxel_size=0.01, nb_neighbors=20, std_ratio=2.0):\n",
    "    points = np.concatenate([np.asarray(x.points) for x in point_list], axis=0)\n",
    "    pcd = o3d.geometry.PointCloud()\n",
    "    pcd.points = o3d.utility.Vector3dVector(points)\n",
    "    pcd = pcd.voxel_down_sample(voxel_size=voxel_size)\n",
    "    pcd, _ = pcd.remove_statistical_outlier(nb_neighbors=nb_neighbors, std_ratio=std_ratio)\n",
    "    return pcd"
   ]
  },
  {
   "cell_type": "code",
   "execution_count": 1400,
   "metadata": {
    "ExecuteTime": {
     "end_time": "2022-02-25T05:58:31.665722Z",
     "start_time": "2022-02-25T05:58:31.656103Z"
    }
   },
   "outputs": [],
   "source": [
    "def normalize(tensor: torch.Tensor, dim: int) -> torch.Tensor:\n",
    "    return tensor / ((tensor ** 2).sum(dim, keepdim=True).sqrt() + 1.0e-5)\n",
    "\n",
    "def vector_to_rotation(vector):\n",
    "    z = np.array(vector)\n",
    "    z = z / np.linalg.norm(z)\n",
    "    x = np.array([1, 0, 0])\n",
    "    x = x - z*(x.dot(z)/z.dot(z))\n",
    "    x = x / np.linalg.norm(x)\n",
    "    y = np.cross(z, x)\n",
    "    return np.c_[x, y, z]\n",
    "\n",
    "def add_r_joint_to_scene(scene,\n",
    "                             axis,\n",
    "                             pivot_point,\n",
    "                             length,\n",
    "                             radius=0.01,\n",
    "                             joint_color=[200, 0, 0, 180],\n",
    "                             recenter=False):\n",
    "    if recenter:\n",
    "        pivot_point = np.cross(axis, np.cross(pivot_point, axis))\n",
    "    rotation_mat = vector_to_rotation(axis)\n",
    "    screw_tran = np.eye(4)\n",
    "    screw_tran[:3, :3] = rotation_mat\n",
    "    screw_tran[:3, 3] = pivot_point\n",
    "    \n",
    "    axis_cylinder = trimesh.creation.cylinder(radius, height=length)\n",
    "    axis_arrow = trimesh.creation.cone(radius * 2, radius * 4)\n",
    "    arrow_trans = np.eye(4)\n",
    "    arrow_trans[2, 3] = length / 2\n",
    "    axis_arrow.apply_transform(arrow_trans)\n",
    "    axis_obj = trimesh.Scene((axis_cylinder, axis_arrow))\n",
    "    screw = as_mesh(axis_obj)\n",
    "    \n",
    "    # screw.apply_translation([0, 0, 0.1])\n",
    "    screw.apply_transform(screw_tran)\n",
    "    screw.visual.face_colors = np.array(joint_color, dtype=np.uint8)\n",
    "    scene.add_geometry(screw)\n",
    "    return screw"
   ]
  },
  {
   "cell_type": "markdown",
   "metadata": {},
   "source": [
    "# load data"
   ]
  },
  {
   "cell_type": "code",
   "execution_count": 1401,
   "metadata": {
    "ExecuteTime": {
     "end_time": "2022-02-25T05:58:32.273859Z",
     "start_time": "2022-02-25T05:58:31.667204Z"
    }
   },
   "outputs": [],
   "source": [
    "# read data\n",
    "# root = '../data/real_music_box'\n",
    "root = '../data/Shape2Motion'\n",
    "\n",
    "# num_point_per_depth = 2048\n",
    "\n",
    "# with open(os.path.join(root, 'camera2base.json')) as f:\n",
    "#     transform_dict = json.load(f)\n",
    "\n",
    "# src_img_dir = os.path.join(root, 'imgs_1')\n",
    "# dst_img_dir = os.path.join(root, 'imgs_2')\n",
    "\n",
    "# transforms = transform_dict['camera2base']\n",
    "# intrinsics = o3d.camera.PinholeCameraIntrinsic(\n",
    "#     width=640,\n",
    "#     height=480,\n",
    "#     fx=635.647,\n",
    "#     fy=635.647,\n",
    "#     cx=321.300,\n",
    "#     cy=241.436,\n",
    "# )\n",
    "# # read data\n",
    "# src_data = []\n",
    "# for idx in range(len(transforms)):\n",
    "#     if idx== 2:\n",
    "#        rgbd = read_rgbd(os.path.join(src_img_dir, f'{idx}_color.png'),\n",
    "#                      os.path.join(src_img_dir, f'{idx}_depth.png'))\n",
    "#        src_data.append((rgbd, np.array(transforms[idx])))\n",
    "\n",
    "# dst_data = []\n",
    "# for idx in range(len(transforms)):\n",
    "#     if idx==2:\n",
    "#         rgbd = read_rgbd(os.path.join(dst_img_dir, f'{idx}_color.png'),\n",
    "#                      os.path.join(dst_img_dir, f'{idx}_depth.png'))\n",
    "#         dst_data.append((rgbd, np.array(transforms[idx])))"
   ]
  },
  {
   "cell_type": "code",
   "execution_count": 1402,
   "metadata": {
    "ExecuteTime": {
     "end_time": "2022-02-25T05:58:32.832428Z",
     "start_time": "2022-02-25T05:58:32.275864Z"
    }
   },
   "outputs": [],
   "source": [
    "# crop out the object\n",
    "bbox = o3d.geometry.AxisAlignedBoundingBox(min_bound=(0.3, -0.5, 0.09), max_bound=(0.7, 0.16, 1))\n",
    "\n",
    "# find bounding box of data\n",
    "# src_pc_list = []\n",
    "# for rgbd, trans in src_data:\n",
    "#     pcd = o3d.geometry.PointCloud.create_from_rgbd_image(rgbd, intrinsics)\n",
    "#     # pcd, tmp = pcd.remove_statistical_outlier(nb_neighbors=20, std_ratio=0.01)\n",
    "#     pcd.transform(trans)\n",
    "#     pcd = pcd.crop(bbox)\n",
    "#     pc = np.asarray(pcd.points)\n",
    "#     pc_idx = np.random.randint(0, pc.shape[0], size=(2048, ))\n",
    "#     pc = pc[pc_idx]\n",
    "#     src_pc_list.append(pc)\n",
    "# src_fused_pc = np.concatenate(src_pc_list, axis=0)\n",
    "# center = (np.min(src_fused_pc, 0) + np.max(src_fused_pc, 0)) / 2\n",
    "# scale = (np.max(src_fused_pc, 0) - np.min(src_fused_pc, 0)).max()\n",
    "# scale *= 1.1\n",
    "\n",
    "# # back project and normalize point cloud\n",
    "\n",
    "# src_pcd_list = []\n",
    "# for rgbd, trans in src_data:\n",
    "#     pcd = o3d.geometry.PointCloud.create_from_rgbd_image(rgbd, intrinsics)\n",
    "#     pcd.transform(trans)\n",
    "#     pcd = pcd.crop(bbox)\n",
    "#     center_transform = np.eye(4)\n",
    "#     center_transform[:3, 3] = -center\n",
    "#     pcd.transform(center_transform)\n",
    "#     pcd.scale(1 / scale, np.zeros((3, 1)))\n",
    "#     src_pcd_list.append(pcd)\n",
    "    \n",
    "# dst_pcd_list = []\n",
    "# for rgbd, trans in dst_data:\n",
    "#     pcd = o3d.geometry.PointCloud.create_from_rgbd_image(rgbd, intrinsics)\n",
    "#     # pcd, tmp = pcd.remove_statistical_outlier(nb_neighbors=20, std_ratio=0.01)\n",
    "#     pcd.transform(trans)\n",
    "#     pcd = pcd.crop(bbox)\n",
    "#     center_transform = np.eye(4)\n",
    "#     center_transform[:3, 3] = -center\n",
    "#     pcd.transform(center_transform)\n",
    "#     pcd.scale(1 / scale, np.zeros((3, 1)))\n",
    "#     dst_pcd_list.append(pcd)\n",
    "    \n",
    "# src_pcd = sum_downsample_points(src_pcd_list, 0.01, 50, 0.1)\n",
    "# dst_pcd = sum_downsample_points(dst_pcd_list, 0.01, 50, 0.1)"
   ]
  },
  {
   "cell_type": "code",
   "execution_count": 1403,
   "metadata": {
    "ExecuteTime": {
     "end_time": "2022-02-25T05:58:32.956048Z",
     "start_time": "2022-02-25T05:58:32.851259Z"
    }
   },
   "outputs": [],
   "source": [
    "# visualize crop results\n",
    "# tune crop box to get better isolated objects\n",
    "# fig = plt.figure()\n",
    "# ax = fig.add_subplot(1, 2, 1, projection='3d')\n",
    "# plot_3d_point_cloud(*np.asarray(src_pcd.points).T,\n",
    "#                     axis=ax,\n",
    "#                     azim=30,\n",
    "#                     elev=30,\n",
    "#                     lim=[(-0.5, 0.5)] * 3)\n",
    "\n",
    "# ax = fig.add_subplot(1, 2, 2, projection='3d')\n",
    "# plot_3d_point_cloud(*np.asarray(dst_pcd.points).T,\n",
    "#                     axis=ax,\n",
    "#                     azim=30,\n",
    "#                     elev=30,\n",
    "#                     lim=[(-0.5, 0.5)] * 3)\n",
    "\n",
    "# plt.show()"
   ]
  },
  {
   "cell_type": "markdown",
   "metadata": {},
   "source": [
    "# Run model"
   ]
  },
  {
   "cell_type": "code",
   "execution_count": 1404,
   "metadata": {
    "ExecuteTime": {
     "end_time": "2022-02-25T05:58:33.277165Z",
     "start_time": "2022-02-25T05:58:32.958248Z"
    }
   },
   "outputs": [],
   "source": [
    "import torch\n",
    "from hydra.experimental import initialize, initialize_config_module, initialize_config_dir, compose\n",
    "from omegaconf import OmegaConf\n",
    "import hydra\n",
    "\n",
    "from src.third_party.ConvONets.conv_onet.generation_two_stage import Generator3D\n",
    "from src.utils.misc import sample_point_cloud\n",
    "\n",
    "from pytorch_lightning import (\n",
    "    Callback,\n",
    "    LightningDataModule,\n",
    "    LightningModule,\n",
    "    Trainer,\n",
    "    seed_everything,\n",
    ")\n",
    "from src.datamodules.datasets.__init__ import create_dataloader, create_dataset\n",
    "from src.datamodules.default_datamodule import DefaultDataModule\n",
    "from src.datamodules.datasets.geo_art_dataset_v0 import GeoArtDatasetV0\n",
    "from src.datamodules.datasets.geo_art_dataset_v1 import GeoArtDatasetV1\n",
    "from pytorch_lightning.loggers import LightningLoggerBase\n",
    "\n",
    "from src.utils import utils\n",
    "\n",
    "log = utils.get_logger(__name__)"
   ]
  },
  {
   "cell_type": "code",
   "execution_count": 1405,
   "metadata": {
    "ExecuteTime": {
     "end_time": "2022-02-25T05:58:33.556180Z",
     "start_time": "2022-02-25T05:58:33.280555Z"
    }
   },
   "outputs": [],
   "source": [
    "with initialize(config_path='../configs/'):\n",
    "    config = compose(\n",
    "        config_name='config',\n",
    "        overrides=[\n",
    "            'experiment=Ditto_s2m.yaml',\n",
    "        ], return_hydra_config=True)\n",
    "config.datamodule.opt.train.data_dir = '../data/'\n",
    "config.datamodule.opt.val.data_dir = '../data/'\n",
    "config.datamodule.opt.test.data_dir = '../data/'"
   ]
  },
  {
   "cell_type": "code",
   "execution_count": 1406,
   "metadata": {
    "ExecuteTime": {
     "end_time": "2022-02-25T05:58:36.569317Z",
     "start_time": "2022-02-25T05:58:33.557567Z"
    }
   },
   "outputs": [
    {
     "name": "stderr",
     "output_type": "stream",
     "text": [
      "INFO - 2022-03-16 10:23:59,376 - distributed - Train dataset [GeoArtDatasetV0] of size 4000 created.\n",
      "INFO - 2022-03-16 10:23:59,377 - distributed - Val dataset [GeoArtDatasetV1] of size 200 created.\n",
      "INFO - 2022-03-16 10:23:59,378 - distributed - Test dataset [GeoArtDatasetV1] of size 1 created.\n"
     ]
    }
   ],
   "source": [
    "datamodule = hydra.utils.instantiate(config.datamodule)\n",
    "datamodule.setup()\n",
    "model = hydra.utils.instantiate(config.model)\n",
    "ckpt = torch.load('****.ckpt')\n",
    "device = torch.device(0)\n",
    "model.load_state_dict(ckpt['state_dict'], strict=True)\n",
    "model = model.eval().to(device)"
   ]
  },
  {
   "cell_type": "code",
   "execution_count": 1407,
   "metadata": {
    "ExecuteTime": {
     "end_time": "2022-02-25T05:58:36.579043Z",
     "start_time": "2022-02-25T05:58:36.571364Z"
    }
   },
   "outputs": [],
   "source": [
    "generator = Generator3D(\n",
    "    model.model,\n",
    "    device=device,\n",
    "    threshold=0.5,\n",
    "    seg_threshold=0.5,\n",
    "    input_type='pointcloud',\n",
    "    refinement_step=0,\n",
    "    padding=0.1,\n",
    "    resolution0=32\n",
    ")"
   ]
  },
  {
   "cell_type": "code",
   "execution_count": 1408,
   "metadata": {
    "ExecuteTime": {
     "end_time": "2022-02-25T05:58:36.597275Z",
     "start_time": "2022-02-25T05:58:36.581014Z"
    }
   },
   "outputs": [
    {
     "name": "stderr",
     "output_type": "stream",
     "text": [
      "INFO - 2022-03-16 10:23:59,786 - distributed - Test dataloader of size 1 created.\n"
     ]
    }
   ],
   "source": [
    "d1 = datamodule.test_dataloader()\n",
    "it=iter(d1)\n",
    "sample_str = next(it)\n",
    "\n",
    "for k,v in sample_str.items():\n",
    "    if isinstance(v,torch.Tensor):\n",
    "        sample_str[k] = v.to(device).float()\n",
    "\n",
    "sample = {\n",
    "    'pc_start': sample_str['pc_start'],\n",
    "    'pc_end': sample_str['pc_end']\n",
    "}\n",
    "# pc_start = np.asarray(src_pcd.points)\n",
    "# pc_end = np.asarray(dst_pcd.points)\n",
    "# print(pc_start)\n",
    "# print(pc_end)\n",
    "\n",
    "# bound_max = np.maximum(pc_start.max(0), pc_end.max(0))\n",
    "# bound_min = np.minimum(pc_start.min(0), pc_end.min(0))\n",
    "# norm_center = (bound_max + bound_min) / 2\n",
    "# norm_scale = (bound_max - bound_min).max() * 1.1\n",
    "# pc_start = (pc_start - norm_center) / norm_scale\n",
    "# pc_end = (pc_end - norm_center) / norm_scale\n",
    "\n",
    "# pc_start, _ = sample_point_cloud(pc_start, 8192)\n",
    "# pc_end, _ = sample_point_cloud(pc_end, 8192)\n",
    "# print(pc_start)\n",
    "# sample = {\n",
    "#     'pc_start': torch.from_numpy(pc_start).unsqueeze(0).to(device).float(),\n",
    "#     'pc_end': torch.from_numpy(pc_end).unsqueeze(0).to(device).float()\n",
    "# }\n",
    "# print(sample)"
   ]
  },
  {
   "cell_type": "code",
   "execution_count": 1409,
   "metadata": {
    "ExecuteTime": {
     "end_time": "2022-02-25T05:58:46.616710Z",
     "start_time": "2022-02-25T05:58:36.599601Z"
    }
   },
   "outputs": [],
   "source": [
    "mesh_dict, mobile_points_all, c, stats_dict = generator.generate_mesh(sample)\n",
    "with torch.no_grad():\n",
    "    joint_type_logits, joint_param_revolute, joint_param_prismatic = model.model.decode_joints(mobile_points_all, c)"
   ]
  },
  {
   "cell_type": "markdown",
   "metadata": {},
   "source": [
    "# Visualize results"
   ]
  },
  {
   "cell_type": "code",
   "execution_count": 1410,
   "metadata": {
    "ExecuteTime": {
     "end_time": "2022-02-25T05:58:47.679751Z",
     "start_time": "2022-02-25T05:58:46.618719Z"
    }
   },
   "outputs": [],
   "source": [
    "import trimesh\n",
    "from src.utils.joint_estimation import aggregate_dense_prediction_r\n",
    "\n",
    "from utils3d.mesh.utils import as_mesh\n",
    "from utils3d.utils.utils import get_pose\n",
    "from utils3d.render.pyrender import PyRenderer\n",
    "import cv2"
   ]
  },
  {
   "cell_type": "code",
   "execution_count": 1411,
   "metadata": {
    "ExecuteTime": {
     "end_time": "2022-02-25T05:58:53.012718Z",
     "start_time": "2022-02-25T05:58:47.681426Z"
    }
   },
   "outputs": [],
   "source": [
    "renderer = PyRenderer(light_kwargs={'color': np.array([1., 1., 1.]), 'intensity': 9})"
   ]
  },
  {
   "cell_type": "code",
   "execution_count": 1412,
   "metadata": {
    "ExecuteTime": {
     "end_time": "2022-02-25T05:58:53.031057Z",
     "start_time": "2022-02-25T05:58:53.014738Z"
    }
   },
   "outputs": [],
   "source": [
    "# compute articulation model\n",
    "mesh_dict[1].visual.face_colors = np.array([84, 220, 83, 255], dtype=np.uint8)\n",
    "joint_type_prob = joint_type_logits.sigmoid().mean()\n",
    "\n",
    "if joint_type_prob.item()< 0.5:\n",
    "    # axis voting\n",
    "    joint_r_axis = (\n",
    "        normalize(joint_param_revolute[:, :, :3], -1)[0].cpu().numpy()\n",
    "    )\n",
    "    joint_r_t = joint_param_revolute[:, :, 3][0].cpu().numpy()\n",
    "    joint_r_p2l_vec = (\n",
    "        normalize(joint_param_revolute[:, :, 4:7], -1)[0].cpu().numpy()\n",
    "    )\n",
    "    joint_r_p2l_dist = joint_param_revolute[:, :, 7][0].cpu().numpy()\n",
    "    p_seg = mobile_points_all[0].cpu().numpy()\n",
    "\n",
    "    pivot_point = p_seg + joint_r_p2l_vec * joint_r_p2l_dist[:, np.newaxis]\n",
    "    (\n",
    "        joint_axis_pred,\n",
    "        pivot_point_pred,\n",
    "        config_pred,\n",
    "    ) = aggregate_dense_prediction_r(\n",
    "        joint_r_axis, pivot_point, joint_r_t, method=\"mean\"\n",
    "    )\n",
    "# prismatic\n",
    "else:\n",
    "    # axis voting\n",
    "    joint_p_axis = (\n",
    "        normalize(joint_param_prismatic[:, :, :3], -1)[0].cpu().numpy()\n",
    "    )\n",
    "    joint_axis_pred = joint_p_axis.mean(0)\n",
    "    joint_p_t = joint_param_prismatic[:, :, 3][0].cpu().numpy()\n",
    "    config_pred = joint_p_t.mean()\n",
    "    \n",
    "    pivot_point_pred = mesh_dict[1].bounds.mean(0)"
   ]
  },
  {
   "cell_type": "code",
   "execution_count": 1413,
   "metadata": {
    "ExecuteTime": {
     "end_time": "2022-02-25T05:58:53.105554Z",
     "start_time": "2022-02-25T05:58:53.032812Z"
    }
   },
   "outputs": [
    {
     "data": {
      "text/plain": [
       "<trimesh.Trimesh(vertices.shape=(100, 3), faces.shape=(192, 3))>"
      ]
     },
     "execution_count": 1413,
     "metadata": {},
     "output_type": "execute_result"
    }
   ],
   "source": [
    "scene = trimesh.Scene()\n",
    "static_part = mesh_dict[0].copy()\n",
    "mobile_part = mesh_dict[1].copy()\n",
    "scene.add_geometry(static_part)\n",
    "scene.add_geometry(mobile_part)\n",
    "add_r_joint_to_scene(scene, joint_axis_pred, pivot_point_pred, 1.0, recenter=True)"
   ]
  },
  {
   "cell_type": "code",
   "execution_count": 1414,
   "metadata": {
    "ExecuteTime": {
     "end_time": "2022-02-25T05:58:53.625544Z",
     "start_time": "2022-02-25T05:58:53.107630Z"
    }
   },
   "outputs": [
    {
     "data": {
      "text/plain": [
       "True"
      ]
     },
     "execution_count": 1414,
     "metadata": {},
     "output_type": "execute_result"
    }
   ],
   "source": [
    "# render result mesh\n",
    "camera_pose = get_pose(1.5, ax=np.pi / 3, ay=0, az=np.pi/2)\n",
    "light_pose = get_pose(1.5, ax=np.pi / 3, ay=0, az=np.pi/2)\n",
    "rgb, depth = renderer.render_mesh(scene, camera_pose, light_pose)\n",
    "\n",
    "rgb_name = '~/Sim2Real2/ditto/result_out/oven/rgb/'+\"rgb\"+\"total\"+\".png\"\n",
    "cv2.imwrite(rgb_name,rgb)"
   ]
  },
  {
   "cell_type": "code",
   "execution_count": 1415,
   "metadata": {
    "ExecuteTime": {
     "end_time": "2022-02-25T05:58:53.669881Z",
     "start_time": "2022-02-25T05:58:53.627312Z"
    }
   },
   "outputs": [
    {
     "data": {
      "image/png": "[encoded data removed]",
      "text/plain": [
       "<PIL.Image.Image image mode=RGB size=640x480 at 0x7FE1D1CD1C10>"
      ]
     },
     "execution_count": 1415,
     "metadata": {},
     "output_type": "execute_result"
    }
   ],
   "source": [
    "Image.fromarray(rgb)"
   ]
  }
 ],
 "metadata": {
  "kernelspec": {
   "display_name": "sim2real2",
   "language": "python",
   "name": "python3"
  },
  "language_info": {
   "codemirror_mode": {
    "name": "ipython",
    "version": 3
   },
   "file_extension": ".py",
   "mimetype": "text/x-python",
   "name": "python",
   "nbconvert_exporter": "python",
   "pygments_lexer": "ipython3",
   "version": "3.8.13"
  },
  "vscode": {
   "interpreter": {
    "hash": "abfe52d158f92ab47ce1b94ef8a149109dd23c238a5cad46e8adb9780b9ae50b"
   }
  }
 },
 "nbformat": 4,
 "nbformat_minor": 4
}
